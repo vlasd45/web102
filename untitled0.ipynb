{
  "nbformat": 4,
  "nbformat_minor": 0,
  "metadata": {
    "colab": {
      "provenance": [],
      "toc_visible": true
    },
    "kernelspec": {
      "name": "python3",
      "display_name": "Python 3"
    },
    "language_info": {
      "name": "python"
    }
  },
  "cells": [
    {
      "cell_type": "code",
      "execution_count": null,
      "metadata": {
        "colab": {
          "base_uri": "https://localhost:8080/"
        },
        "id": "LPEOdFTzpDTK",
        "outputId": "5ead99fa-e894-498a-e599-d5b373883ec5"
      },
      "outputs": [
        {
          "output_type": "stream",
          "name": "stdout",
          "text": [
            "Первые 3 строки:\n",
            "   A  B    C\n",
            "0  5  a  0.1\n",
            "1  6  b  0.2\n",
            "2  7  c  0.3\n",
            "Последние 3 строки:\n",
            "   A  B    C\n",
            "2  7  c  0.3\n",
            "3  8  d  0.4\n",
            "4  9  e  0.5\n"
          ]
        }
      ],
      "source": [
        "\n",
        "\n",
        "# DataFrame\n",
        "data = {\n",
        "    'A': [5, 6, 7, 8, 9],\n",
        "    'B': ['a', 'b', 'c', 'd', 'e'],\n",
        "    'C': [0.1, 0.2, 0.3, 0.4, 0.5]\n",
        "}\n",
        "df = pd.DataFrame(data)\n",
        "print(\"Первые 3 строки:\")\n",
        "print(df.head(3))\n",
        "print(\"Последние 3 строки:\")\n",
        "print(df.tail(3))"
      ]
    },
    {
      "cell_type": "code",
      "source": [
        "import pandas as pd"
      ],
      "metadata": {
        "id": "Ne62OpSOpPfk"
      },
      "execution_count": null,
      "outputs": []
    },
    {
      "cell_type": "code",
      "source": [
        "df.to_csv('data.csv')"
      ],
      "metadata": {
        "id": "d9jsZFYuqMta"
      },
      "execution_count": null,
      "outputs": []
    },
    {
      "cell_type": "code",
      "source": [],
      "metadata": {
        "id": "qM997FXzqd2D"
      },
      "execution_count": null,
      "outputs": []
    },
    {
      "cell_type": "markdown",
      "source": [
        "# Новый раздел"
      ],
      "metadata": {
        "id": "-LRIkluQqfHx"
      }
    }
  ]
}